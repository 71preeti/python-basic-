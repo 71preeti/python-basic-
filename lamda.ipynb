{
 "cells": [
  {
   "cell_type": "code",
   "execution_count": 1,
   "metadata": {},
   "outputs": [
    {
     "name": "stdout",
     "output_type": "stream",
     "text": [
      "3\n"
     ]
    }
   ],
   "source": [
    "add=lambda x,y:x+y\n",
    "print(add(1,2))"
   ]
  },
  {
   "cell_type": "markdown",
   "metadata": {},
   "source": [
    "* OBJECT ORIENTED PROGRAMMING\n"
   ]
  },
  {
   "cell_type": "code",
   "execution_count": 4,
   "metadata": {},
   "outputs": [
    {
     "name": "stdout",
     "output_type": "stream",
     "text": [
      "10\n"
     ]
    }
   ],
   "source": [
    "class Arya :\n",
    "    a=10\n",
    "a1=Arya()\n",
    "print(a1.a)"
   ]
  },
  {
   "cell_type": "code",
   "execution_count": 10,
   "metadata": {},
   "outputs": [
    {
     "name": "stdout",
     "output_type": "stream",
     "text": [
      "hello\n",
      "None\n"
     ]
    }
   ],
   "source": [
    "class Arya:\n",
    "    def hod():\n",
    "        print(\"hello\")\n",
    "a2=Arya.hod()\n",
    "print(a2)"
   ]
  },
  {
   "cell_type": "code",
   "execution_count": null,
   "metadata": {},
   "outputs": [
    {
     "name": "stdout",
     "output_type": "stream",
     "text": [
      "10\n"
     ]
    }
   ],
   "source": [
    "class arya:\n",
    "    def __init__(self):\n",
    "        self.a=10 #instanec variable\n",
    "a1=arya()\n",
    "print(a1.a)"
   ]
  },
  {
   "cell_type": "code",
   "execution_count": 15,
   "metadata": {},
   "outputs": [
    {
     "name": "stdout",
     "output_type": "stream",
     "text": [
      "oldcampus\n",
      "pooja\n"
     ]
    }
   ],
   "source": [
    "class arya_old:\n",
    "    def __init__(self,founder,name):\n",
    "        self.founder=founder\n",
    "        self.name=name\n",
    "a2=arya_old(\"oldcampus\",\"pooja\")\n",
    "print(a2.founder)\n",
    "print(a2.name)"
   ]
  },
  {
   "cell_type": "code",
   "execution_count": null,
   "metadata": {},
   "outputs": [
    {
     "name": "stdout",
     "output_type": "stream",
     "text": [
      "abc\n",
      "jaipur\n"
     ]
    }
   ],
   "source": [
    "class skit:\n",
    "    def __init__(self,name,address):        # constructor , parameter\n",
    "        self.name=name     # instance variables\n",
    "        self.address=address\n",
    "    def show(self):   # method self used to access the constructor variable\n",
    "        print (self.name)\n",
    "        print(self.address)\n",
    "obj=skit(\"abc\",\"jaipur\")      # argument \n",
    "obj.show()\n",
    "\n",
    "    "
   ]
  },
  {
   "cell_type": "markdown",
   "metadata": {},
   "source": [
    "* INHERITANCE"
   ]
  },
  {
   "cell_type": "code",
   "execution_count": 29,
   "metadata": {},
   "outputs": [
    {
     "name": "stdout",
     "output_type": "stream",
     "text": [
      "12345 23 hello\n"
     ]
    }
   ],
   "source": [
    "class dad():\n",
    "    def __init__(self,account_no,empid):\n",
    "        self.account_no=account_no\n",
    "        self.empid=empid\n",
    "    a=\"hello\"\n",
    "\n",
    "class beta(dad):\n",
    "    def show(self):\n",
    "        print(self.account_no)\n",
    "        print(self.empid)\n",
    "        \n",
    "obj1=beta(12345,23)\n",
    "print(obj1.account_no,obj1.empid,obj1.a)\n"
   ]
  },
  {
   "cell_type": "markdown",
   "metadata": {},
   "source": [
    "* SINGLE"
   ]
  },
  {
   "cell_type": "code",
   "execution_count": 20,
   "metadata": {},
   "outputs": [
    {
     "name": "stdout",
     "output_type": "stream",
     "text": [
      "hello\n",
      "dadyy\n"
     ]
    }
   ],
   "source": [
    "class dad():\n",
    "    name=\"dadyy\"\n",
    "class beti(dad):\n",
    "    print(\"hello\")\n",
    "a=beti()\n",
    "print(a.name)"
   ]
  },
  {
   "cell_type": "code",
   "execution_count": 67,
   "metadata": {},
   "outputs": [
    {
     "name": "stdout",
     "output_type": "stream",
     "text": [
      "1234\n",
      "customer details\n"
     ]
    }
   ],
   "source": [
    "class bank():\n",
    "    def __init__(self,accno):\n",
    "        self.accno=accno\n",
    "    def customer(self):\n",
    "        print(\"customer details\")\n",
    "class customer2(bank):\n",
    "    def __init__(self, accno):\n",
    "        bank.__init__(self,accno)\n",
    "    def show(self):\n",
    "        print(self.accno)\n",
    "obj=customer2(1234)\n",
    "obj.show()\n",
    "obj.customer()\n",
    "        "
   ]
  },
  {
   "cell_type": "markdown",
   "metadata": {},
   "source": [
    "* MULTIPLE"
   ]
  },
  {
   "cell_type": "code",
   "execution_count": 38,
   "metadata": {},
   "outputs": [
    {
     "name": "stdout",
     "output_type": "stream",
     "text": [
      "son\n"
     ]
    },
    {
     "data": {
      "text/plain": [
       "'banbari'"
      ]
     },
     "execution_count": 38,
     "metadata": {},
     "output_type": "execute_result"
    }
   ],
   "source": [
    "class dada:\n",
    "\n",
    "    g_name=\"basudev\"\n",
    "class papa:\n",
    "    p_name=\"banbari\"\n",
    "class beta(dada,papa):\n",
    "    print(\"son\")\n",
    "\n",
    "obj=beta()\n",
    "obj.g_name\n",
    "obj.p_name\n"
   ]
  },
  {
   "cell_type": "markdown",
   "metadata": {},
   "source": [
    "* MULTILEVEL"
   ]
  },
  {
   "cell_type": "code",
   "execution_count": 48,
   "metadata": {},
   "outputs": [
    {
     "name": "stdout",
     "output_type": "stream",
     "text": [
      "hello dadajii\n",
      "hello papajii\n",
      "hello betajii\n"
     ]
    },
    {
     "data": {
      "text/plain": [
       "'dkfjdighf'"
      ]
     },
     "execution_count": 48,
     "metadata": {},
     "output_type": "execute_result"
    }
   ],
   "source": [
    "class grandfather:\n",
    "    print(\"hello dadajii\")\n",
    "    g_name=\"xyc\"\n",
    "class father(grandfather):\n",
    "    print(\"hello papajii\")\n",
    "    f_name=\"ghutuisjdhs\"\n",
    "class child(father):\n",
    "    print(\"hello betajii\")\n",
    "    c_name=\"dkfjdighf\"\n",
    "obj=child()\n",
    "obj.g_name\n",
    "obj.c_name\n"
   ]
  },
  {
   "cell_type": "markdown",
   "metadata": {},
   "source": [
    "* HYBRID"
   ]
  },
  {
   "cell_type": "code",
   "execution_count": 88,
   "metadata": {},
   "outputs": [
    {
     "name": "stdout",
     "output_type": "stream",
     "text": [
      "abcd\n"
     ]
    },
    {
     "ename": "AttributeError",
     "evalue": "'c3' object has no attribute 'acc1'",
     "output_type": "error",
     "traceback": [
      "\u001b[1;31m---------------------------------------------------------------------------\u001b[0m",
      "\u001b[1;31mAttributeError\u001b[0m                            Traceback (most recent call last)",
      "Cell \u001b[1;32mIn[88], line 14\u001b[0m\n\u001b[0;32m     12\u001b[0m         \u001b[38;5;28mprint\u001b[39m(\u001b[38;5;28mself\u001b[39m\u001b[38;5;241m.\u001b[39macc)\n\u001b[0;32m     13\u001b[0m obj\u001b[38;5;241m=\u001b[39mc3()\n\u001b[1;32m---> 14\u001b[0m \u001b[43mobj\u001b[49m\u001b[38;5;241;43m.\u001b[39;49m\u001b[43macc1\u001b[49m\n",
      "\u001b[1;31mAttributeError\u001b[0m: 'c3' object has no attribute 'acc1'"
     ]
    }
   ],
   "source": [
    "class c1():\n",
    "    name1=\"111\"\n",
    "class c2():                   # doubt in this \n",
    "    name2=\"222\"\n",
    "    def __init__(self):\n",
    "        self.acc1=1234\n",
    "        print(self.acc1)\n",
    "class c3(c1,c2):\n",
    "    name3=\"3333\"\n",
    "    def __init__(self):\n",
    "        self.acc=\"abcd\"\n",
    "        print(self.acc)\n",
    "obj=c3()\n",
    "obj.acc1\n",
    "\n",
    "\n",
    "\n",
    "\n"
   ]
  },
  {
   "cell_type": "markdown",
   "metadata": {},
   "source": [
    "* POLYMORPHISM = here len act as different for string and list length"
   ]
  },
  {
   "cell_type": "code",
   "execution_count": 63,
   "metadata": {},
   "outputs": [
    {
     "name": "stdout",
     "output_type": "stream",
     "text": [
      "11\n",
      "5\n"
     ]
    }
   ],
   "source": [
    "name=\"hello i am \"\n",
    "print(len(name))\n",
    "lst=[0,1,2,3,4]\n",
    "print(len(lst))"
   ]
  },
  {
   "cell_type": "code",
   "execution_count": null,
   "metadata": {},
   "outputs": [],
   "source": []
  }
 ],
 "metadata": {
  "kernelspec": {
   "display_name": "base",
   "language": "python",
   "name": "python3"
  },
  "language_info": {
   "codemirror_mode": {
    "name": "ipython",
    "version": 3
   },
   "file_extension": ".py",
   "mimetype": "text/x-python",
   "name": "python",
   "nbconvert_exporter": "python",
   "pygments_lexer": "ipython3",
   "version": "3.12.7"
  }
 },
 "nbformat": 4,
 "nbformat_minor": 2
}
