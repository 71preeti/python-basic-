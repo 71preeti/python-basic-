{
 "cells": [
  {
   "cell_type": "markdown",
   "metadata": {},
   "source": [
    "1. Difference between Lists and Tuples in terms of Mutability and Performance"
   ]
  },
  {
   "cell_type": "markdown",
   "metadata": {},
   "source": [
    "Mutability:\n",
    "\n",
    "Lists are mutable, meaning their elements can be changed after creation.\n",
    "Tuples are immutable, meaning their elements cannot be changed once assigned.\n",
    "Performance:\n",
    "\n",
    "Tuples are faster than lists because they have a fixed size and less memory overhead.\n",
    "Lists are slower because they allow modifications, requiring additional memory allocation.\n",
    "When to Use?\n",
    "\n",
    "Use tuples when you need fixed data that should not change, like coordinates or database records.\n",
    "Use lists when you need dynamic data that requires modification, like a to-do list or a list of student names."
   ]
  },
  {
   "cell_type": "markdown",
   "metadata": {},
   "source": [
    "2. Python Type Conversion between Different Data Types"
   ]
  },
  {
   "cell_type": "code",
   "execution_count": 2,
   "metadata": {},
   "outputs": [
    {
     "name": "stdout",
     "output_type": "stream",
     "text": [
      "123\n"
     ]
    }
   ],
   "source": [
    "num = \"123\"\n",
    "num_int = int(num)  # Converts string to integer\n",
    "print(num_int)  # Output: 123\n"
   ]
  },
  {
   "cell_type": "code",
   "execution_count": 1,
   "metadata": {},
   "outputs": [
    {
     "name": "stdout",
     "output_type": "stream",
     "text": [
      "(1, 2, 3)\n"
     ]
    }
   ],
   "source": [
    "lst = [1, 2, 3]\n",
    "tpl = tuple(lst)  # Converts list to tuple\n",
    "print(tpl)  # Output: (1, 2, 3)\n"
   ]
  },
  {
   "cell_type": "markdown",
   "metadata": {},
   "source": [
    "3. Python Program to Increase a Number’s Value by 10 Using += Operator"
   ]
  },
  {
   "cell_type": "code",
   "execution_count": 3,
   "metadata": {},
   "outputs": [
    {
     "name": "stdout",
     "output_type": "stream",
     "text": [
      "Updated value: 20\n"
     ]
    }
   ],
   "source": [
    "num = int(input(\"Enter a number: \"))  \n",
    "num += 10  \n",
    "print(\"Updated value:\", num)\n"
   ]
  },
  {
   "cell_type": "markdown",
   "metadata": {},
   "source": [
    "4. Python Program to Check if a Year is a Leap Year"
   ]
  },
  {
   "cell_type": "code",
   "execution_count": 4,
   "metadata": {},
   "outputs": [
    {
     "name": "stdout",
     "output_type": "stream",
     "text": [
      "2025 is NOT a Leap Year\n"
     ]
    }
   ],
   "source": [
    "year = int(input(\"Enter a year: \"))  \n",
    "\n",
    "if (year % 4 == 0 and year % 100 != 0) or (year % 400 == 0):  \n",
    "    print(year, \"is a Leap Year\")  \n",
    "else:  \n",
    "    print(year, \"is NOT a Leap Year\")\n"
   ]
  },
  {
   "cell_type": "markdown",
   "metadata": {},
   "source": [
    "5. Python Program to Display Grades Based on Marks\n",
    "\n"
   ]
  },
  {
   "cell_type": "code",
   "execution_count": 5,
   "metadata": {},
   "outputs": [
    {
     "name": "stdout",
     "output_type": "stream",
     "text": [
      "Your Grade is: D\n"
     ]
    }
   ],
   "source": [
    "marks = int(input(\"Enter your marks: \"))  \n",
    "\n",
    "if 90 <= marks <= 100:  \n",
    "    grade = \"A\"  \n",
    "elif 80 <= marks < 90:  \n",
    "    grade = \"B\"  \n",
    "elif 70 <= marks < 80:  \n",
    "    grade = \"C\"  \n",
    "elif 60 <= marks < 70:  \n",
    "    grade = \"D\"  \n",
    "else:  \n",
    "    grade = \"F\"  \n",
    "\n",
    "print(\"Your Grade is:\", grade)\n"
   ]
  },
  {
   "cell_type": "code",
   "execution_count": null,
   "metadata": {},
   "outputs": [],
   "source": []
  },
  {
   "cell_type": "code",
   "execution_count": null,
   "metadata": {},
   "outputs": [],
   "source": []
  },
  {
   "cell_type": "code",
   "execution_count": null,
   "metadata": {},
   "outputs": [],
   "source": []
  },
  {
   "cell_type": "code",
   "execution_count": null,
   "metadata": {},
   "outputs": [],
   "source": []
  },
  {
   "cell_type": "code",
   "execution_count": null,
   "metadata": {},
   "outputs": [],
   "source": []
  }
 ],
 "metadata": {
  "kernelspec": {
   "display_name": "base",
   "language": "python",
   "name": "python3"
  },
  "language_info": {
   "codemirror_mode": {
    "name": "ipython",
    "version": 3
   },
   "file_extension": ".py",
   "mimetype": "text/x-python",
   "name": "python",
   "nbconvert_exporter": "python",
   "pygments_lexer": "ipython3",
   "version": "3.12.7"
  }
 },
 "nbformat": 4,
 "nbformat_minor": 2
}
