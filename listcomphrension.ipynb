{
 "cells": [
  {
   "cell_type": "code",
   "execution_count": 2,
   "metadata": {},
   "outputs": [
    {
     "name": "stdout",
     "output_type": "stream",
     "text": [
      "odd\n"
     ]
    }
   ],
   "source": [
    "print(\"even\" if int(input(\"enter the number\"))%2==0 else \"odd\")"
   ]
  },
  {
   "cell_type": "code",
   "execution_count": 7,
   "metadata": {},
   "outputs": [
    {
     "name": "stdout",
     "output_type": "stream",
     "text": [
      "[1, 4, 9, 16, 25, 36, 49, 64, 81]\n"
     ]
    }
   ],
   "source": [
    "squaress= [i*i for i in range(1,10)]\n",
    "print(squaress)"
   ]
  },
  {
   "cell_type": "code",
   "execution_count": 13,
   "metadata": {},
   "outputs": [
    {
     "name": "stdout",
     "output_type": "stream",
     "text": [
      "leap year\n",
      "3456\n"
     ]
    }
   ],
   "source": [
    "print(\"leap year\" if (year:=int(input(\"enter year\")))%4==0 and (year%100!=0 or year%400==0) else \"not leap year\")\n",
    "print(year)"
   ]
  },
  {
   "cell_type": "code",
   "execution_count": 15,
   "metadata": {},
   "outputs": [
    {
     "name": "stdout",
     "output_type": "stream",
     "text": [
      "Not a leap year\n"
     ]
    }
   ],
   "source": [
    "print(\"Leap year\" if ((year := int(input(\"Enter year: \"))) % 4 == 0 and year % 100 != 0 )or (year % 400 == 0) else \"Not a leap year\")\n"
   ]
  },
  {
   "cell_type": "code",
   "execution_count": null,
   "metadata": {},
   "outputs": [],
   "source": [
    "# name = input(\"Enter your name: \")\n",
    "# if len(name) > 5:\n",
    "#     print(f\"Your name {name} is long.\")\n"
   ]
  },
  {
   "cell_type": "code",
   "execution_count": 20,
   "metadata": {},
   "outputs": [
    {
     "name": "stdout",
     "output_type": "stream",
     "text": [
      "short name\n"
     ]
    }
   ],
   "source": [
    "print(f\"your name{name} is long\" if (name:= input(\"enter name\")) and len(name)>5 else \"short name\")"
   ]
  },
  {
   "cell_type": "code",
   "execution_count": 19,
   "metadata": {},
   "outputs": [
    {
     "name": "stdout",
     "output_type": "stream",
     "text": [
      "Your name raviii is long\n"
     ]
    }
   ],
   "source": [
    "print(f\"Your name {name} is long\" if (name := input(\"Enter name: \")) and len(name) > 5 else \"Short name\")\n"
   ]
  },
  {
   "cell_type": "code",
   "execution_count": 22,
   "metadata": {},
   "outputs": [
    {
     "name": "stdout",
     "output_type": "stream",
     "text": [
      "your name is preeti\n"
     ]
    }
   ],
   "source": [
    "print(f\"your name is {name}\" if (name:= input(\"enter your name \")) else \"again enter your name\")"
   ]
  },
  {
   "cell_type": "code",
   "execution_count": 23,
   "metadata": {},
   "outputs": [
    {
     "ename": "SyntaxError",
     "evalue": "invalid syntax. Perhaps you forgot a comma? (859083971.py, line 1)",
     "output_type": "error",
     "traceback": [
      "\u001b[1;36m  Cell \u001b[1;32mIn[23], line 1\u001b[1;36m\u001b[0m\n\u001b[1;33m    print(f\"sum of two numbers is {a+b}\" if (a:=int(input(\"enter number\"),b:=int(input(\"enter second number\"))) a+b else \"again give number\")\u001b[0m\n\u001b[1;37m                                                ^\u001b[0m\n\u001b[1;31mSyntaxError\u001b[0m\u001b[1;31m:\u001b[0m invalid syntax. Perhaps you forgot a comma?\n"
     ]
    }
   ],
   "source": [
    "print(f\"sum of two numbers is {a+b}\" if (a:=int(input(\"enter number\"),b:=int(input(\"enter second number\"))) a+b else \"again give number\")"
   ]
  },
  {
   "cell_type": "code",
   "execution_count": 24,
   "metadata": {},
   "outputs": [
    {
     "name": "stdout",
     "output_type": "stream",
     "text": [
      "Sum of two numbers is 30\n"
     ]
    }
   ],
   "source": [
    "print(f\"Sum of two numbers is {(a:=int(input('Enter first number: '))) + (b:=int(input('Enter second number: ')))}\")\n"
   ]
  },
  {
   "cell_type": "code",
   "execution_count": 26,
   "metadata": {},
   "outputs": [
    {
     "name": "stdout",
     "output_type": "stream",
     "text": [
      "not eligible for vote \n"
     ]
    }
   ],
   "source": [
    "print(f\"your age {age} is valid for vote ,you can vote \" if (age:= int(input(\"enter age\")))>=18 else \"not eligible for vote \")"
   ]
  },
  {
   "cell_type": "code",
   "execution_count": 27,
   "metadata": {},
   "outputs": [
    {
     "name": "stdout",
     "output_type": "stream",
     "text": [
      "[1, 4, 9, 16, 25, 36, 49, 64, 81, 100]\n"
     ]
    }
   ],
   "source": [
    "lstsq=[x*x for x in range(1,11)]\n",
    "print(lstsq)"
   ]
  },
  {
   "cell_type": "code",
   "execution_count": 34,
   "metadata": {},
   "outputs": [
    {
     "name": "stdout",
     "output_type": "stream",
     "text": [
      "{'ruby': 4, 'c++': 3, 'python': 6, 'cccc': 4, 'opps': 4}\n"
     ]
    }
   ],
   "source": [
    "words=[\"ruby\",\"c++\",\"python\",\"cccc\",\"opps\"]\n",
    "dict={x: len(x) for x in words}\n",
    "print(dict)"
   ]
  },
  {
   "cell_type": "code",
   "execution_count": 40,
   "metadata": {},
   "outputs": [
    {
     "name": "stdout",
     "output_type": "stream",
     "text": [
      "[2, 4, 6, 8, 10]\n"
     ]
    }
   ],
   "source": [
    "num=[1,2,3,4,5,6,7,8,9,10]\n",
    "even=[x for x in num if x%2==0 ]\n",
    "print(even)"
   ]
  },
  {
   "cell_type": "code",
   "execution_count": 39,
   "metadata": {},
   "outputs": [
    {
     "name": "stdout",
     "output_type": "stream",
     "text": [
      "2 4 6 8 10\n"
     ]
    }
   ],
   "source": [
    "num=[1,2,3,4,5,6,7,8,9,10]\n",
    "even=(x for x in num if x%2==0 )\n",
    "print(*even)"
   ]
  },
  {
   "cell_type": "code",
   "execution_count": 41,
   "metadata": {},
   "outputs": [
    {
     "name": "stdout",
     "output_type": "stream",
     "text": [
      "[1, 2, 3, 4, 5, 6, 7, 8, 9, 10]\n"
     ]
    }
   ],
   "source": [
    "nums = [x for x in range(1, 1000000)]  # Puri list memory me store hogi\n",
    "print(nums[:10])  # Pehle 10 numbers print karega\n"
   ]
  },
  {
   "cell_type": "code",
   "execution_count": 43,
   "metadata": {},
   "outputs": [
    {
     "name": "stdout",
     "output_type": "stream",
     "text": [
      "1\n",
      "2\n"
     ]
    }
   ],
   "source": [
    "nums = (x for x in range(1, 1000000))  # Yeh sirf ek-ek value generate karega\n",
    "print(next(nums))  # Pehla number dega\n",
    "print(next(nums))  # Dusra number dega\n"
   ]
  },
  {
   "cell_type": "code",
   "execution_count": 45,
   "metadata": {},
   "outputs": [
    {
     "name": "stdout",
     "output_type": "stream",
     "text": [
      "4\n",
      "5\n"
     ]
    }
   ],
   "source": [
    "print(next(nums))\n",
    "print(next(nums))"
   ]
  },
  {
   "cell_type": "code",
   "execution_count": null,
   "metadata": {},
   "outputs": [
    {
     "name": "stdout",
     "output_type": "stream",
     "text": [
      "0\n",
      "2\n",
      "4\n"
     ]
    }
   ],
   "source": [
    "def even_numbers(n):\n",
    "    for i in range(n):\n",
    "        if i % 2 == 0:\n",
    "            yield i  # Har bar ek value return karega\n",
    "\n",
    "gen = even_numbers(10)  # Generator object milega\n",
    "print(next(gen))  # 0\n",
    "print(next(gen))  # 2\n",
    "print(next(gen))  # 4\n",
    "# yield ka matlab hai ki function ruk jayega aur value dega, lekin state yaad rakhega!"
   ]
  },
  {
   "cell_type": "code",
   "execution_count": 47,
   "metadata": {},
   "outputs": [
    {
     "name": "stdout",
     "output_type": "stream",
     "text": [
      "6\n"
     ]
    }
   ],
   "source": [
    "print(next(gen))"
   ]
  },
  {
   "cell_type": "code",
   "execution_count": 48,
   "metadata": {},
   "outputs": [
    {
     "name": "stdout",
     "output_type": "stream",
     "text": [
      "0\n",
      "2\n",
      "4\n"
     ]
    }
   ],
   "source": [
    "gen = (x for x in range(10) if x % 2 == 0)\n",
    "print(next(gen))  # 0\n",
    "print(next(gen))  # 2\n",
    "print(next(gen))  # 4\n"
   ]
  },
  {
   "cell_type": "code",
   "execution_count": 53,
   "metadata": {},
   "outputs": [
    {
     "name": "stdout",
     "output_type": "stream",
     "text": [
      "0 1 1 2 3 5 8 13 21 34 55 89 144 233 377 610 987 1597 2584 4181 "
     ]
    }
   ],
   "source": [
    "a,b=0,1\n",
    "for i in range(20):\n",
    "    print(a,end=\" \")\n",
    "    a,b=b,a+b\n"
   ]
  },
  {
   "cell_type": "code",
   "execution_count": 54,
   "metadata": {},
   "outputs": [
    {
     "name": "stdout",
     "output_type": "stream",
     "text": [
      "Fibonacci series [0, 1, 1, 2, 3, 5, 8, 13, 21, 34, 55, 89, 144, 233, 377, 610, 987, 1597, 2584, 4181, 6765, 10946, 17711, 28657, 46368, 75025, 121393, 196418, 317811, 514229]\n"
     ]
    }
   ],
   "source": [
    "n=int(input(\"enter the number of terms for fibonacci series:\"))\n",
    "fib=[0,1]\n",
    "[fib.append(fib[-1]+fib[-2]) for _ in range (n-2)]\n",
    "print(\"Fibonacci series\",fib)"
   ]
  },
  {
   "cell_type": "code",
   "execution_count": 55,
   "metadata": {},
   "outputs": [
    {
     "name": "stdout",
     "output_type": "stream",
     "text": [
      "The 10th Fibonacci number is: 34\n"
     ]
    }
   ],
   "source": [
    "def fibonacci(n):\n",
    "    if n <= 0:\n",
    "        return \"Invalid input\"\n",
    "    elif n == 1:\n",
    "        return 0\n",
    "    elif n == 2:\n",
    "        return 1\n",
    "    \n",
    "    a, b = 0, 1\n",
    "    for _ in range(n - 2):\n",
    "        a, b = b, a + b  # Next Fibonacci number\n",
    "    return b\n",
    "\n",
    "n = int(input(\"Enter the position (N) of Fibonacci number: \"))\n",
    "print(f\"The {n}th Fibonacci number is: {fibonacci(n)}\")\n"
   ]
  },
  {
   "cell_type": "code",
   "execution_count": null,
   "metadata": {},
   "outputs": [],
   "source": []
  }
 ],
 "metadata": {
  "kernelspec": {
   "display_name": "base",
   "language": "python",
   "name": "python3"
  },
  "language_info": {
   "codemirror_mode": {
    "name": "ipython",
    "version": 3
   },
   "file_extension": ".py",
   "mimetype": "text/x-python",
   "name": "python",
   "nbconvert_exporter": "python",
   "pygments_lexer": "ipython3",
   "version": "3.12.7"
  }
 },
 "nbformat": 4,
 "nbformat_minor": 2
}
